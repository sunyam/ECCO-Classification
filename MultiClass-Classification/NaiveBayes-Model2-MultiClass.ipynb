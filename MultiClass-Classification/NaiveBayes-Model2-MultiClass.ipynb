{
 "cells": [
  {
   "cell_type": "code",
   "execution_count": 1,
   "metadata": {
    "collapsed": true
   },
   "outputs": [],
   "source": [
    "'''\n",
    "Hyperparameter tuning for Naive Bayes.\n",
    "'''\n",
    "from sklearn.model_selection import GridSearchCV, cross_val_score\n",
    "\n",
    "def my_NB(X, labels):\n",
    "    \n",
    "    tuned_parameters = {'alpha': [1.0, 1e-3, 1e-6, 1e-12, 1e-18]}\n",
    "    \n",
    "    metrics = ['accuracy']\n",
    "    m = ['accuracy']\n",
    "#     m = ['precision_micro', 'f1_micro', 'accuracy', 'recall_micro']\n",
    "    models = []\n",
    "    \n",
    "    for score in metrics:\n",
    "        model = {}\n",
    "        nb = MultinomialNB()\n",
    "        print \"Running for\", score\n",
    "        clf = GridSearchCV(nb, tuned_parameters, cv=10, scoring=score, verbose=3)\n",
    "        clf.fit(X, labels)\n",
    "        print \"\\nBest parameters for \" + score + \": \" + str(clf.best_estimator_)\n",
    "        print \"Best score achieved for \" + score + \": \" + str(clf.best_score_)\n",
    "        best_nb = clf.best_estimator_\n",
    "        \n",
    "        for s in m:\n",
    "#             print \"Running the best \" + score + \" model for \" + s + \"..\"\n",
    "            model[s] = np.array(cross_val_score(best_nb, X, labels, cv=10, scoring=s))\n",
    "        \n",
    "#         print \"For \", score \n",
    "        print model\n",
    "#         print \"\\n\\n\"\n",
    "        models.append((model, best_nb))\n",
    "    return models"
   ]
  },
  {
   "cell_type": "code",
   "execution_count": 2,
   "metadata": {},
   "outputs": [
    {
     "name": "stderr",
     "output_type": "stream",
     "text": [
      "/Users/sunyambagga/anaconda/lib/python2.7/site-packages/sklearn/cross_validation.py:41: DeprecationWarning: This module was deprecated in version 0.18 in favor of the model_selection module into which all the refactored classes and functions are moved. Also note that the interface of the new CV iterators are different from that of this module. This module will be removed in 0.20.\n",
      "  \"This module will be removed in 0.20.\", DeprecationWarning)\n",
      "/Users/sunyambagga/anaconda/lib/python2.7/site-packages/sklearn/grid_search.py:42: DeprecationWarning: This module was deprecated in version 0.18 in favor of the model_selection module into which all the refactored classes and functions are moved. This module will be removed in 0.20.\n",
      "  DeprecationWarning)\n"
     ]
    },
    {
     "name": "stdout",
     "output_type": "stream",
     "text": [
      "('Everything: ', 57231)\n",
      "('Count: ', 57231)\n",
      "('Vectorizer: ', (57231, 120518))\n"
     ]
    }
   ],
   "source": [
    "'''\n",
    "Load CSVs and getting it ready for CountVectorizer.\n",
    "'''\n",
    "import pandas as pd\n",
    "\n",
    "numberOfFeatures = 100\n",
    "\n",
    "# categories = ['Agriculture.csv', 'Biography.csv', 'Botany.csv', 'Church.csv', 'Commerce.csv', 'Dictionaries.csv', \n",
    "#               'Drama.csv', 'Fiction.csv', 'History.csv', 'History_Natural.csv', 'Law.csv', 'Mathematics.csv', \n",
    "#               'Medicine.csv', 'Physics.csv', 'Poetry.csv', 'Politics.csv', 'Rhetoric.csv', 'Sermons.csv', \n",
    "#               'Travels.csv']\n",
    "\n",
    "df_agri = pd.read_csv('./5_features/Model2_length3/agri_' + str(numberOfFeatures) + '.csv', header=None, names=range(0,numberOfFeatures))\n",
    "\n",
    "df_botany = pd.read_csv('./5_features/Model2_length3/botany_' + str(numberOfFeatures) + '.csv', header=None, names=range(0,numberOfFeatures))\n",
    "df_church = pd.read_csv('./5_features/Model2_length3/church_' + str(numberOfFeatures) + '.csv', header=None, names=range(0,numberOfFeatures))\n",
    "df_commerce = pd.read_csv('./5_features/Model2_length3/commerce_' + str(numberOfFeatures) + '.csv', header=None, names=range(0,numberOfFeatures))\n",
    "df_drama = pd.read_csv('./5_features/Model2_length3/drama_' + str(numberOfFeatures) + '.csv', header=None, names=range(0,numberOfFeatures))\n",
    "df_fiction = pd.read_csv('./5_features/Model2_length3/fiction_' + str(numberOfFeatures) + '.csv', header=None, names=range(0,numberOfFeatures))\n",
    "df_history = pd.read_csv('./5_features/Model2_length3/history_' + str(numberOfFeatures) + '.csv', header=None, names=range(0,numberOfFeatures))\n",
    "df_historyNatural = pd.read_csv('./5_features/Model2_length3/historyNatural_' + str(numberOfFeatures) + '.csv', header=None, names=range(0,numberOfFeatures))\n",
    "df_law = pd.read_csv('./5_features/Model2_length3/law_' + str(numberOfFeatures) + '.csv', header=None, names=range(0,numberOfFeatures))\n",
    "df_math = pd.read_csv('./5_features/Model2_length3/math_' + str(numberOfFeatures) + '.csv', header=None, names=range(0,numberOfFeatures))\n",
    "df_med = pd.read_csv('./5_features/Model2_length3/med_' + str(numberOfFeatures) + '.csv', header=None, names=range(0,numberOfFeatures))\n",
    "df_phy = pd.read_csv('./5_features/Model2_length3/phy_' + str(numberOfFeatures) + '.csv', header=None, names=range(0,numberOfFeatures))\n",
    "df_poetry = pd.read_csv('./5_features/Model2_length3/poetry_' + str(numberOfFeatures) + '.csv', header=None, names=range(0,numberOfFeatures))\n",
    "df_politics = pd.read_csv('./5_features/Model2_length3/politics_' + str(numberOfFeatures) + '.csv', header=None, names=range(0,numberOfFeatures))\n",
    "df_rhetoric = pd.read_csv('./5_features/Model2_length3/rhetoric_' + str(numberOfFeatures) + '.csv', header=None, names=range(0,numberOfFeatures))\n",
    "df_sermons = pd.read_csv('./5_features/Model2_length3/sermons_' + str(numberOfFeatures) + '.csv', header=None, names=range(0,numberOfFeatures))\n",
    "df_travels = pd.read_csv('./5_features/Model2_length3/travels_' + str(numberOfFeatures) + '.csv', header=None, names=range(0,numberOfFeatures))\n",
    "\n",
    "# Removing NaN\n",
    "df_agri.fillna('', inplace=True)\n",
    "\n",
    "df_botany.fillna('', inplace=True)\n",
    "df_church.fillna('', inplace=True)\n",
    "df_commerce.fillna('', inplace=True)\n",
    "df_drama.fillna('', inplace=True)\n",
    "df_fiction.fillna('', inplace=True)\n",
    "df_history.fillna('', inplace=True)\n",
    "df_historyNatural.fillna('', inplace=True)\n",
    "df_law.fillna('', inplace=True)\n",
    "df_math.fillna('', inplace=True)\n",
    "df_med.fillna('', inplace=True)\n",
    "df_phy.fillna('', inplace=True)\n",
    "df_poetry.fillna('', inplace=True)\n",
    "df_politics.fillna('', inplace=True)\n",
    "df_rhetoric.fillna('', inplace=True)\n",
    "df_sermons.fillna('', inplace=True)\n",
    "df_travels.fillna('', inplace=True)\n",
    "\n",
    "# Changing it to CountVec fashion:\n",
    "agri = [' '.join(str(r) for r in row) for row in df_agri.values]\n",
    "\n",
    "botany = [' '.join(str(r) for r in row) for row in df_botany.values]\n",
    "church = [' '.join(str(r) for r in row) for row in df_church.values]\n",
    "commerce = [' '.join(str(r) for r in row) for row in df_commerce.values]\n",
    "\n",
    "drama = [' '.join(str(r) for r in row) for row in df_drama.values]\n",
    "fiction = [' '.join(str(r) for r in row) for row in df_fiction.values]\n",
    "history = [' '.join(str(r) for r in row) for row in df_history.values]\n",
    "historyNatural = [' '.join(str(r) for r in row) for row in df_historyNatural.values]\n",
    "law = [' '.join(str(r) for r in row) for row in df_law.values]\n",
    "math = [' '.join(str(r) for r in row) for row in df_math.values]\n",
    "med = [' '.join(str(r) for r in row) for row in df_med.values]\n",
    "\n",
    "phy = [' '.join(str(r) for r in row) for row in df_phy.values]\n",
    "poetry = [' '.join(str(r) for r in row) for row in df_poetry.values]\n",
    "politics = [' '.join(str(r) for r in row) for row in df_politics.values]\n",
    "rhetoric = [' '.join(str(r) for r in row) for row in df_rhetoric.values]\n",
    "sermons = [' '.join(str(r) for r in row) for row in df_sermons.values]\n",
    "travels = [' '.join(str(r) for r in row) for row in df_travels.values]\n",
    "\n",
    "# Passing it to CountVectorizer:\n",
    "from sklearn.naive_bayes import MultinomialNB\n",
    "from sklearn.feature_extraction.text import CountVectorizer\n",
    "from sklearn.model_selection import cross_val_score\n",
    "from sklearn.grid_search import GridSearchCV\n",
    "import numpy as np\n",
    "\n",
    "everything = agri + botany + church + commerce + drama + fiction + history + historyNatural + law + math + med + \\\n",
    "             phy + poetry + politics + rhetoric + sermons + travels\n",
    "print(\"Everything: \", len(everything))\n",
    "\n",
    "# Defining labels (must be in the same order)\n",
    "labels = len(agri)*['Agriculture'] + len(botany)*['Botany'] + len(church)*['Church'] + len(commerce)*['Commerce'] + len(drama)*['Drama'] + len(fiction)*['Fiction'] + len(history)*['History'] + len(historyNatural)*['History Natural'] + len(law)*['Law'] + len(math)*['Mathematics'] + len(med)*['Medicine'] + len(phy)*['Physics'] + len(poetry)*['Poetry'] + len(politics)*['Politics'] + len(rhetoric)*['Rhetoric'] + len(sermons)*['Sermons'] + len(travels)*['Travels']\n",
    "\n",
    "# Storing sizes (in same order)\n",
    "sizes_in_same_order = [len(agri), len(botany), len(church), len(commerce), len(drama), len(fiction), len(history), len(historyNatural), len(law), len(math), len(med), len(phy), len(poetry), len(politics), len(rhetoric), len(sermons), len(travels)]\n",
    "\n",
    "count = 0\n",
    "for i in sizes_in_same_order:\n",
    "    count += i\n",
    "print(\"Count: \", count)\n",
    "\n",
    "vectorizer500 = CountVectorizer()\n",
    "X500 = vectorizer500.fit_transform(everything)\n",
    "print(\"Vectorizer: \", X500.shape) # Prints (59881, something)"
   ]
  },
  {
   "cell_type": "code",
   "execution_count": 3,
   "metadata": {},
   "outputs": [
    {
     "name": "stdout",
     "output_type": "stream",
     "text": [
      "Running for accuracy\n",
      "Fitting 10 folds for each of 5 candidates, totalling 50 fits\n",
      "[CV] alpha=1.0 .......................................................\n",
      "[CV] .............................. alpha=1.0, score=0.684403 -   0.4s\n",
      "[CV] alpha=1.0 .......................................................\n"
     ]
    },
    {
     "name": "stderr",
     "output_type": "stream",
     "text": [
      "[Parallel(n_jobs=1)]: Done   1 out of   1 | elapsed:    0.4s remaining:    0.0s\n"
     ]
    },
    {
     "name": "stdout",
     "output_type": "stream",
     "text": [
      "[CV] .............................. alpha=1.0, score=0.749782 -   0.4s\n",
      "[CV] alpha=1.0 .......................................................\n"
     ]
    },
    {
     "name": "stderr",
     "output_type": "stream",
     "text": [
      "[Parallel(n_jobs=1)]: Done   2 out of   2 | elapsed:    0.8s remaining:    0.0s\n"
     ]
    },
    {
     "name": "stdout",
     "output_type": "stream",
     "text": [
      "[CV] .............................. alpha=1.0, score=0.750262 -   0.4s\n",
      "[CV] alpha=1.0 .......................................................\n",
      "[CV] .............................. alpha=1.0, score=0.752271 -   0.4s\n",
      "[CV] alpha=1.0 .......................................................\n",
      "[CV] .............................. alpha=1.0, score=0.721601 -   0.4s\n",
      "[CV] alpha=1.0 .......................................................\n",
      "[CV] .............................. alpha=1.0, score=0.682049 -   0.5s\n",
      "[CV] alpha=1.0 .......................................................\n",
      "[CV] .............................. alpha=1.0, score=0.691662 -   0.5s\n",
      "[CV] alpha=1.0 .......................................................\n",
      "[CV] .............................. alpha=1.0, score=0.733695 -   0.5s\n",
      "[CV] alpha=1.0 .......................................................\n",
      "[CV] .............................. alpha=1.0, score=0.617524 -   0.5s\n",
      "[CV] alpha=1.0 .......................................................\n",
      "[CV] .............................. alpha=1.0, score=0.483121 -   0.5s\n",
      "[CV] alpha=0.001 .....................................................\n",
      "[CV] ............................ alpha=0.001, score=0.726622 -   0.4s\n",
      "[CV] alpha=0.001 .....................................................\n",
      "[CV] ............................ alpha=0.001, score=0.797243 -   0.4s\n",
      "[CV] alpha=0.001 .....................................................\n",
      "[CV] ............................ alpha=0.001, score=0.790604 -   0.4s\n",
      "[CV] alpha=0.001 .....................................................\n",
      "[CV] ............................ alpha=0.001, score=0.795772 -   0.4s\n",
      "[CV] alpha=0.001 .....................................................\n",
      "[CV] ............................ alpha=0.001, score=0.772282 -   0.3s\n",
      "[CV] alpha=0.001 .....................................................\n",
      "[CV] ............................ alpha=0.001, score=0.731341 -   0.4s\n",
      "[CV] alpha=0.001 .....................................................\n",
      "[CV] ............................ alpha=0.001, score=0.744450 -   0.4s\n",
      "[CV] alpha=0.001 .....................................................\n",
      "[CV] ............................ alpha=0.001, score=0.777758 -   0.4s\n",
      "[CV] alpha=0.001 .....................................................\n",
      "[CV] ............................ alpha=0.001, score=0.653900 -   0.5s\n",
      "[CV] alpha=0.001 .....................................................\n",
      "[CV] ............................ alpha=0.001, score=0.519678 -   0.4s\n",
      "[CV] alpha=1e-06 .....................................................\n",
      "[CV] ............................ alpha=1e-06, score=0.736567 -   0.4s\n",
      "[CV] alpha=1e-06 .....................................................\n",
      "[CV] ............................ alpha=1e-06, score=0.796894 -   0.4s\n",
      "[CV] alpha=1e-06 .....................................................\n",
      "[CV] ............................ alpha=1e-06, score=0.795320 -   0.5s\n",
      "[CV] alpha=1e-06 .....................................................\n",
      "[CV] ............................ alpha=1e-06, score=0.798393 -   0.4s\n",
      "[CV] alpha=1e-06 .....................................................\n",
      "[CV] ............................ alpha=1e-06, score=0.772282 -   0.4s\n",
      "[CV] alpha=1e-06 .....................................................\n",
      "[CV] ............................ alpha=1e-06, score=0.736060 -   0.4s\n",
      "[CV] alpha=1e-06 .....................................................\n",
      "[CV] ............................ alpha=1e-06, score=0.745499 -   0.4s\n",
      "[CV] alpha=1e-06 .....................................................\n",
      "[CV] ............................ alpha=1e-06, score=0.775310 -   0.4s\n",
      "[CV] alpha=1e-06 .....................................................\n",
      "[CV] ............................ alpha=1e-06, score=0.653900 -   0.5s\n",
      "[CV] alpha=1e-06 .....................................................\n",
      "[CV] ............................ alpha=1e-06, score=0.525625 -   0.5s\n",
      "[CV] alpha=1e-12 .....................................................\n"
     ]
    },
    {
     "name": "stderr",
     "output_type": "stream",
     "text": [
      "/Users/sunyambagga/anaconda/lib/python2.7/site-packages/sklearn/naive_bayes.py:472: UserWarning: alpha too small will result in numeric errors, setting alpha = 1.0e-10\n",
      "  'setting alpha = %.1e' % _ALPHA_MIN)\n"
     ]
    },
    {
     "name": "stdout",
     "output_type": "stream",
     "text": [
      "[CV] ............................ alpha=1e-12, score=0.741103 -   0.4s\n",
      "[CV] alpha=1e-12 .....................................................\n",
      "[CV] ............................ alpha=1e-12, score=0.793579 -   0.4s\n",
      "[CV] alpha=1e-12 .....................................................\n",
      "[CV] ............................ alpha=1e-12, score=0.790430 -   0.4s\n",
      "[CV] alpha=1e-12 .....................................................\n",
      "[CV] ............................ alpha=1e-12, score=0.791929 -   0.4s\n",
      "[CV] alpha=1e-12 .....................................................\n",
      "[CV] ............................ alpha=1e-12, score=0.767739 -   0.4s\n",
      "[CV] alpha=1e-12 .....................................................\n",
      "[CV] ............................ alpha=1e-12, score=0.730816 -   0.4s\n",
      "[CV] alpha=1e-12 .....................................................\n",
      "[CV] ............................ alpha=1e-12, score=0.740430 -   0.4s\n",
      "[CV] alpha=1e-12 .....................................................\n",
      "[CV] ............................ alpha=1e-12, score=0.770414 -   0.4s\n",
      "[CV] alpha=1e-12 .....................................................\n",
      "[CV] ............................ alpha=1e-12, score=0.650577 -   0.4s\n",
      "[CV] alpha=1e-12 .....................................................\n",
      "[CV] ............................ alpha=1e-12, score=0.520203 -   0.4s\n",
      "[CV] alpha=1e-18 .....................................................\n",
      "[CV] ............................ alpha=1e-18, score=0.741103 -   0.3s\n",
      "[CV] alpha=1e-18 .....................................................\n",
      "[CV] ............................ alpha=1e-18, score=0.793579 -   0.4s\n",
      "[CV] alpha=1e-18 .....................................................\n",
      "[CV] ............................ alpha=1e-18, score=0.790430 -   0.4s\n",
      "[CV] alpha=1e-18 .....................................................\n",
      "[CV] ............................ alpha=1e-18, score=0.791929 -   0.3s\n",
      "[CV] alpha=1e-18 .....................................................\n",
      "[CV] ............................ alpha=1e-18, score=0.767739 -   0.3s\n",
      "[CV] alpha=1e-18 .....................................................\n",
      "[CV] ............................ alpha=1e-18, score=0.730816 -   0.3s\n",
      "[CV] alpha=1e-18 .....................................................\n",
      "[CV] ............................ alpha=1e-18, score=0.740430 -   0.4s\n",
      "[CV] alpha=1e-18 .....................................................\n",
      "[CV] ............................ alpha=1e-18, score=0.770414 -   0.4s\n",
      "[CV] alpha=1e-18 .....................................................\n",
      "[CV] ............................ alpha=1e-18, score=0.650577 -   0.4s\n",
      "[CV] alpha=1e-18 .....................................................\n",
      "[CV] ............................ alpha=1e-18, score=0.520203 -   0.3s\n"
     ]
    },
    {
     "name": "stderr",
     "output_type": "stream",
     "text": [
      "[Parallel(n_jobs=1)]: Done  50 out of  50 | elapsed:   20.8s finished\n"
     ]
    },
    {
     "name": "stdout",
     "output_type": "stream",
     "text": [
      "\n",
      "Best parameters for accuracy: MultinomialNB(alpha=1e-06, class_prior=None, fit_prior=True)\n",
      "Best score achieved for accuracy: 0.733623385927\n",
      "{'accuracy': array([0.73656664, 0.79689408, 0.79531959, 0.79839273, 0.77228242,\n",
      "       0.73606013, 0.74549904, 0.77531037, 0.65389997, 0.52562533])}\n",
      "\n",
      "Accuracy:  0.7335850304042896\n",
      "Std-dev:  0.08062978977422572\n"
     ]
    }
   ],
   "source": [
    "results_500 = my_NB(X500, labels)\n",
    "print \"\\nAccuracy: \", results_500[0][0]['accuracy'].mean()\n",
    "print \"Std-dev: \", results_500[0][0]['accuracy'].std()\n",
    "# print \"Best hyperparams: \", results_500[0][1]\n",
    "# print \"Entire array: \", results_500"
   ]
  }
 ],
 "metadata": {
  "kernelspec": {
   "display_name": "Python 2",
   "language": "python",
   "name": "python2"
  },
  "language_info": {
   "codemirror_mode": {
    "name": "ipython",
    "version": 2
   },
   "file_extension": ".py",
   "mimetype": "text/x-python",
   "name": "python",
   "nbconvert_exporter": "python",
   "pygments_lexer": "ipython2",
   "version": "2.7.13"
  }
 },
 "nbformat": 4,
 "nbformat_minor": 2
}
