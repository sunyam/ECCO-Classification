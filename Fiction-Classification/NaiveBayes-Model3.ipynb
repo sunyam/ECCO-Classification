{
 "cells": [
  {
   "cell_type": "code",
   "execution_count": 1,
   "metadata": {
    "collapsed": true
   },
   "outputs": [],
   "source": [
    "import pickle\n",
    "\n",
    "def pickle_load(n):\n",
    "    with open('./features/Model3_all_stopwords_and_noPunc6/fiction_' + str(n) + '.pickle', 'rb') as f:\n",
    "        fic = pickle.load(f)\n",
    "\n",
    "    with open('./features/Model3_all_stopwords_and_noPunc6/non_fiction_' + str(n) + '.pickle', 'rb') as f:\n",
    "        nonfic = pickle.load(f)\n",
    "\n",
    "    return fic, nonfic\n",
    "\n",
    "fic50, nonfic50     = pickle_load(50)\n",
    "fic100, nonfic100   = pickle_load(100)\n",
    "fic500, nonfic500   = pickle_load(500)\n",
    "fic1000, nonfic1000 = pickle_load(1000)\n",
    "fic3000, nonfic3000 = pickle_load(3000)"
   ]
  },
  {
   "cell_type": "code",
   "execution_count": 2,
   "metadata": {
    "collapsed": true
   },
   "outputs": [],
   "source": [
    "'''\n",
    "Different smoothing parameters in Naive Bayes.\n",
    "'''\n",
    "\n",
    "# New better version:\n",
    "def my_NB(X):\n",
    "    # Getting labels ready: 1 is for Fiction, 0 is for NonFiction\n",
    "    labels = [1]*4558 + [0]*4558\n",
    "    \n",
    "    tuned_parameters = {'alpha': [1.0, 1e-3, 1e-6, 1e-12, 1e-18]}\n",
    "    \n",
    "    metrics = ['precision', 'f1', 'accuracy', 'recall']\n",
    "    \n",
    "    # List of 4 dictionaries, where each dictionary represents all the results for that particular best model.\n",
    "    models = []\n",
    "    \n",
    "    for score in metrics:\n",
    "        model = {}\n",
    "        nb = MultinomialNB()\n",
    "        print \"Running for \", score\n",
    "        clf = GridSearchCV(nb, tuned_parameters, cv=10, scoring=score, verbose=1)\n",
    "        clf.fit(X, labels)\n",
    "        print \"\\nBest parameters for \" + score + \": \" + str(clf.best_estimator_)\n",
    "        print \"Best score achieved for \" + score + \": \" + str(clf.best_score_)\n",
    "        best_nb = clf.best_estimator_\n",
    "        # Now that I have the best parameters for each metric, running SVM for those specific parameters to obtain \n",
    "        # all values.\n",
    "        for s in metrics:\n",
    "            print \"Running the best \" + score + \" model for \" + s + \"..\"\n",
    "            model[s] = np.array(cross_val_score(best_nb, X, labels, cv=10, scoring=s))\n",
    "        \n",
    "        print \"For \", score \n",
    "        print model\n",
    "        print \"\\n\\n\"\n",
    "        models.append(model)\n",
    "\n",
    "    return models"
   ]
  },
  {
   "cell_type": "code",
   "execution_count": 3,
   "metadata": {},
   "outputs": [
    {
     "name": "stderr",
     "output_type": "stream",
     "text": [
      "/Users/sunyambagga/anaconda/lib/python2.7/site-packages/sklearn/cross_validation.py:44: DeprecationWarning: This module was deprecated in version 0.18 in favor of the model_selection module into which all the refactored classes and functions are moved. Also note that the interface of the new CV iterators are different from that of this module. This module will be removed in 0.20.\n",
      "  \"This module will be removed in 0.20.\", DeprecationWarning)\n",
      "/Users/sunyambagga/anaconda/lib/python2.7/site-packages/sklearn/grid_search.py:43: DeprecationWarning: This module was deprecated in version 0.18 in favor of the model_selection module into which all the refactored classes and functions are moved. This module will be removed in 0.20.\n",
      "  DeprecationWarning)\n"
     ]
    },
    {
     "name": "stdout",
     "output_type": "stream",
     "text": [
      "Set I) 50 words:\n",
      "Running for  precision\n",
      "Fitting 10 folds for each of 5 candidates, totalling 50 fits\n"
     ]
    },
    {
     "name": "stderr",
     "output_type": "stream",
     "text": [
      "[Parallel(n_jobs=1)]: Done  50 out of  50 | elapsed:    0.6s finished\n"
     ]
    },
    {
     "name": "stdout",
     "output_type": "stream",
     "text": [
      "\n",
      "Best parameters for precision: MultinomialNB(alpha=1e-12, class_prior=None, fit_prior=True)\n",
      "Best score achieved for precision: 0.965780489628\n",
      "Running the best precision model for precision..\n",
      "Running the best precision model for f1..\n",
      "Running the best precision model for accuracy..\n",
      "Running the best precision model for recall..\n",
      "For  precision\n",
      "{'recall': array([ 0.82236842,  0.93859649,  0.93859649,  0.92324561,  0.91447368,\n",
      "        0.9122807 ,  0.87938596,  0.91885965,  0.81978022,  0.74945055]), 'f1': array([ 0.88862559,  0.95749441,  0.95216908,  0.9481982 ,  0.93813273,\n",
      "        0.94331066,  0.91867125,  0.92699115,  0.89127838,  0.84197531]), 'precision': array([ 0.96649485,  0.97716895,  0.96613995,  0.97453704,  0.9630485 ,\n",
      "        0.97652582,  0.9616307 ,  0.93526786,  0.97643979,  0.96056338]), 'accuracy': array([ 0.89692982,  0.95833333,  0.95285088,  0.9495614 ,  0.93969298,\n",
      "        0.94517544,  0.92214912,  0.92763158,  0.9       ,  0.85934066])}\n",
      "\n",
      "\n",
      "\n",
      "Running for  f1\n",
      "Fitting 10 folds for each of 5 candidates, totalling 50 fits\n"
     ]
    },
    {
     "name": "stderr",
     "output_type": "stream",
     "text": [
      "[Parallel(n_jobs=1)]: Done  50 out of  50 | elapsed:    0.6s finished\n"
     ]
    },
    {
     "name": "stdout",
     "output_type": "stream",
     "text": [
      "\n",
      "Best parameters for f1: MultinomialNB(alpha=0.001, class_prior=None, fit_prior=True)\n",
      "Best score achieved for f1: 0.936382434163\n",
      "Running the best f1 model for precision..\n",
      "Running the best f1 model for f1..\n",
      "Running the best f1 model for accuracy..\n",
      "Running the best f1 model for recall..\n",
      "For  f1\n",
      "{'recall': array([ 0.86622807,  0.98026316,  0.98245614,  0.97368421,  0.94517544,\n",
      "        0.93640351,  0.9122807 ,  0.93859649,  0.86153846,  0.77802198]), 'f1': array([ 0.90389016,  0.97491821,  0.97285559,  0.96732026,  0.95038589,\n",
      "        0.94888889,  0.93693694,  0.93756846,  0.91056911,  0.86026731]), 'precision': array([ 0.94497608,  0.96963124,  0.96344086,  0.96103896,  0.9556541 ,\n",
      "        0.96171171,  0.96296296,  0.93654267,  0.96551724,  0.96195652]), 'accuracy': array([ 0.90789474,  0.9747807 ,  0.97258772,  0.96710526,  0.95065789,\n",
      "        0.9495614 ,  0.93859649,  0.9375    ,  0.91538462,  0.87362637])}\n",
      "\n",
      "\n",
      "\n",
      "Running for  accuracy\n",
      "Fitting 10 folds for each of 5 candidates, totalling 50 fits\n"
     ]
    },
    {
     "name": "stderr",
     "output_type": "stream",
     "text": [
      "[Parallel(n_jobs=1)]: Done  50 out of  50 | elapsed:    0.6s finished\n"
     ]
    },
    {
     "name": "stdout",
     "output_type": "stream",
     "text": [
      "\n",
      "Best parameters for accuracy: MultinomialNB(alpha=0.001, class_prior=None, fit_prior=True)\n",
      "Best score achieved for accuracy: 0.938788942519\n",
      "Running the best accuracy model for precision..\n",
      "Running the best accuracy model for f1..\n",
      "Running the best accuracy model for accuracy..\n",
      "Running the best accuracy model for recall..\n",
      "For  accuracy\n",
      "{'recall': array([ 0.86622807,  0.98026316,  0.98245614,  0.97368421,  0.94517544,\n",
      "        0.93640351,  0.9122807 ,  0.93859649,  0.86153846,  0.77802198]), 'f1': array([ 0.90389016,  0.97491821,  0.97285559,  0.96732026,  0.95038589,\n",
      "        0.94888889,  0.93693694,  0.93756846,  0.91056911,  0.86026731]), 'precision': array([ 0.94497608,  0.96963124,  0.96344086,  0.96103896,  0.9556541 ,\n",
      "        0.96171171,  0.96296296,  0.93654267,  0.96551724,  0.96195652]), 'accuracy': array([ 0.90789474,  0.9747807 ,  0.97258772,  0.96710526,  0.95065789,\n",
      "        0.9495614 ,  0.93859649,  0.9375    ,  0.91538462,  0.87362637])}\n",
      "\n",
      "\n",
      "\n",
      "Running for  recall\n",
      "Fitting 10 folds for each of 5 candidates, totalling 50 fits\n"
     ]
    },
    {
     "name": "stderr",
     "output_type": "stream",
     "text": [
      "[Parallel(n_jobs=1)]: Done  50 out of  50 | elapsed:    0.6s finished\n"
     ]
    },
    {
     "name": "stdout",
     "output_type": "stream",
     "text": [
      "\n",
      "Best parameters for recall: MultinomialNB(alpha=1.0, class_prior=None, fit_prior=True)\n",
      "Best score achieved for recall: 0.928916191312\n",
      "Running the best recall model for precision..\n",
      "Running the best recall model for f1..\n",
      "Running the best recall model for accuracy..\n",
      "Running the best recall model for recall..\n",
      "For  recall\n",
      "{'recall': array([ 0.88596491,  0.98903509,  0.98026316,  0.98245614,  0.9495614 ,\n",
      "        0.94517544,  0.91008772,  0.94298246,  0.88351648,  0.81978022]), 'f1': array([ 0.90380313,  0.96059638,  0.95512821,  0.95828877,  0.9402823 ,\n",
      "        0.9359392 ,  0.91814159,  0.92772384,  0.90540541,  0.87047841]), 'precision': array([ 0.92237443,  0.93374741,  0.93125   ,  0.93528184,  0.9311828 ,\n",
      "        0.92688172,  0.92633929,  0.91295117,  0.92840647,  0.9278607 ]), 'accuracy': array([ 0.90570175,  0.95942982,  0.95394737,  0.95723684,  0.93969298,\n",
      "        0.93530702,  0.91885965,  0.92653509,  0.90769231,  0.87802198])}\n",
      "\n",
      "\n",
      "\n",
      "\n",
      "################################################################\n",
      "\n",
      "Set II) 100 words:\n",
      "Running for  precision\n",
      "Fitting 10 folds for each of 5 candidates, totalling 50 fits\n"
     ]
    },
    {
     "name": "stderr",
     "output_type": "stream",
     "text": [
      "[Parallel(n_jobs=1)]: Done  50 out of  50 | elapsed:    1.1s finished\n"
     ]
    },
    {
     "name": "stdout",
     "output_type": "stream",
     "text": [
      "\n",
      "Best parameters for precision: MultinomialNB(alpha=1e-18, class_prior=None, fit_prior=True)\n",
      "Best score achieved for precision: 0.966838824291\n",
      "Running the best precision model for precision..\n",
      "Running the best precision model for f1..\n",
      "Running the best precision model for accuracy..\n",
      "Running the best precision model for recall..\n",
      "For  precision\n",
      "{'recall': array([ 0.80263158,  0.91666667,  0.91447368,  0.92105263,  0.89473684,\n",
      "        0.88377193,  0.86403509,  0.91666667,  0.83956044,  0.72307692]), 'f1': array([ 0.87664671,  0.94250282,  0.94024803,  0.94382022,  0.9262202 ,\n",
      "        0.92857143,  0.91098266,  0.93512304,  0.90307329,  0.82663317]), 'precision': array([ 0.96569921,  0.96983759,  0.9675174 ,  0.96774194,  0.96      ,\n",
      "        0.97815534,  0.96332518,  0.9543379 ,  0.9769821 ,  0.96480938]), 'accuracy': array([ 0.8870614 ,  0.94407895,  0.94188596,  0.94517544,  0.92872807,\n",
      "        0.93201754,  0.91557018,  0.93640351,  0.90989011,  0.84835165])}\n",
      "\n",
      "\n",
      "\n",
      "Running for  f1\n",
      "Fitting 10 folds for each of 5 candidates, totalling 50 fits\n"
     ]
    },
    {
     "name": "stderr",
     "output_type": "stream",
     "text": [
      "[Parallel(n_jobs=1)]: Done  50 out of  50 | elapsed:    1.1s finished\n"
     ]
    },
    {
     "name": "stdout",
     "output_type": "stream",
     "text": [
      "\n",
      "Best parameters for f1: MultinomialNB(alpha=1e-06, class_prior=None, fit_prior=True)\n",
      "Best score achieved for f1: 0.933338031245\n",
      "Running the best f1 model for precision..\n",
      "Running the best f1 model for f1..\n",
      "Running the best f1 model for accuracy..\n",
      "Running the best f1 model for recall..\n",
      "For  f1\n",
      "{'recall': array([ 0.83991228,  0.97807018,  0.97149123,  0.96710526,  0.93421053,\n",
      "        0.92982456,  0.90570175,  0.93640351,  0.85494505,  0.76043956]), 'f1': array([ 0.89485981,  0.97379913,  0.96936543,  0.966046  ,  0.94352159,\n",
      "        0.94748603,  0.93227991,  0.94678492,  0.9088785 ,  0.85012285]), 'precision': array([ 0.9575    ,  0.96956522,  0.96724891,  0.96498906,  0.95302013,\n",
      "        0.96583144,  0.96046512,  0.9573991 ,  0.97007481,  0.9637883 ]), 'accuracy': array([ 0.90131579,  0.97368421,  0.96929825,  0.96600877,  0.94407895,\n",
      "        0.94846491,  0.93421053,  0.94736842,  0.91428571,  0.86593407])}\n",
      "\n",
      "\n",
      "\n",
      "Running for  accuracy\n",
      "Fitting 10 folds for each of 5 candidates, totalling 50 fits\n"
     ]
    },
    {
     "name": "stderr",
     "output_type": "stream",
     "text": [
      "[Parallel(n_jobs=1)]: Done  50 out of  50 | elapsed:    1.1s finished\n"
     ]
    },
    {
     "name": "stdout",
     "output_type": "stream",
     "text": [
      "\n",
      "Best parameters for accuracy: MultinomialNB(alpha=1e-06, class_prior=None, fit_prior=True)\n",
      "Best score achieved for accuracy: 0.93648530057\n",
      "Running the best accuracy model for precision..\n",
      "Running the best accuracy model for f1..\n",
      "Running the best accuracy model for accuracy..\n",
      "Running the best accuracy model for recall..\n",
      "For  accuracy\n",
      "{'recall': array([ 0.83991228,  0.97807018,  0.97149123,  0.96710526,  0.93421053,\n",
      "        0.92982456,  0.90570175,  0.93640351,  0.85494505,  0.76043956]), 'f1': array([ 0.89485981,  0.97379913,  0.96936543,  0.966046  ,  0.94352159,\n",
      "        0.94748603,  0.93227991,  0.94678492,  0.9088785 ,  0.85012285]), 'precision': array([ 0.9575    ,  0.96956522,  0.96724891,  0.96498906,  0.95302013,\n",
      "        0.96583144,  0.96046512,  0.9573991 ,  0.97007481,  0.9637883 ]), 'accuracy': array([ 0.90131579,  0.97368421,  0.96929825,  0.96600877,  0.94407895,\n",
      "        0.94846491,  0.93421053,  0.94736842,  0.91428571,  0.86593407])}\n",
      "\n",
      "\n",
      "\n",
      "Running for  recall\n",
      "Fitting 10 folds for each of 5 candidates, totalling 50 fits\n"
     ]
    },
    {
     "name": "stderr",
     "output_type": "stream",
     "text": [
      "[Parallel(n_jobs=1)]: Done  50 out of  50 | elapsed:    1.0s finished\n"
     ]
    },
    {
     "name": "stdout",
     "output_type": "stream",
     "text": [
      "\n",
      "Best parameters for recall: MultinomialNB(alpha=1.0, class_prior=None, fit_prior=True)\n",
      "Best score achieved for recall: 0.922114962703\n",
      "Running the best recall model for precision..\n",
      "Running the best recall model for f1..\n",
      "Running the best recall model for accuracy..\n",
      "Running the best recall model for recall..\n",
      "For  recall\n",
      "{'recall': array([ 0.875     ,  0.98903509,  0.97368421,  0.97807018,  0.93640351,\n",
      "        0.94298246,  0.91008772,  0.94078947,  0.87472527,  0.8       ]), 'f1': array([ 0.89261745,  0.95248152,  0.9416755 ,  0.94994675,  0.92224622,\n",
      "        0.9287257 ,  0.91409692,  0.92158969,  0.89237668,  0.85446009]), 'precision': array([ 0.9109589 ,  0.9185336 ,  0.91170431,  0.92339545,  0.90851064,\n",
      "        0.91489362,  0.91814159,  0.90315789,  0.91075515,  0.91687657]), 'accuracy': array([ 0.89473684,  0.95065789,  0.93969298,  0.94846491,  0.92105263,\n",
      "        0.92763158,  0.91447368,  0.91995614,  0.89450549,  0.86373626])}\n",
      "\n",
      "\n",
      "\n",
      "\n",
      "################################################################\n",
      "\n",
      "Set III) 500 words:\n",
      "Running for  precision\n",
      "Fitting 10 folds for each of 5 candidates, totalling 50 fits\n"
     ]
    },
    {
     "name": "stderr",
     "output_type": "stream",
     "text": [
      "[Parallel(n_jobs=1)]: Done  50 out of  50 | elapsed:    6.5s finished\n"
     ]
    },
    {
     "name": "stdout",
     "output_type": "stream",
     "text": [
      "\n",
      "Best parameters for precision: MultinomialNB(alpha=1e-18, class_prior=None, fit_prior=True)\n",
      "Best score achieved for precision: 0.979256957808\n",
      "Running the best precision model for precision..\n",
      "Running the best precision model for f1..\n",
      "Running the best precision model for accuracy..\n",
      "Running the best precision model for recall..\n",
      "For  precision\n",
      "{'recall': array([ 0.78508772,  0.93421053,  0.95394737,  0.93640351,  0.91008772,\n",
      "        0.89912281,  0.87280702,  0.90789474,  0.78901099,  0.6967033 ]), 'f1': array([ 0.87317073,  0.9583802 ,  0.9688196 ,  0.9573991 ,  0.93891403,\n",
      "        0.9350057 ,  0.92450639,  0.93984109,  0.87775061,  0.81177977]), 'precision': array([ 0.98351648,  0.98383372,  0.9841629 ,  0.9793578 ,  0.96962617,\n",
      "        0.97387173,  0.98271605,  0.97411765,  0.98898072,  0.97239264]), 'accuracy': array([ 0.88596491,  0.95942982,  0.96929825,  0.95833333,  0.94078947,\n",
      "        0.9375    ,  0.92872807,  0.94188596,  0.89010989,  0.83846154])}\n",
      "\n",
      "\n",
      "\n",
      "Running for  f1\n",
      "Fitting 10 folds for each of 5 candidates, totalling 50 fits\n"
     ]
    },
    {
     "name": "stderr",
     "output_type": "stream",
     "text": [
      "[Parallel(n_jobs=1)]: Done  50 out of  50 | elapsed:    6.2s finished\n"
     ]
    },
    {
     "name": "stdout",
     "output_type": "stream",
     "text": [
      "\n",
      "Best parameters for f1: MultinomialNB(alpha=1e-06, class_prior=None, fit_prior=True)\n",
      "Best score achieved for f1: 0.926005012507\n",
      "Running the best f1 model for precision..\n",
      "Running the best f1 model for f1..\n",
      "Running the best f1 model for accuracy..\n",
      "Running the best f1 model for recall..\n",
      "For  f1\n",
      "{'recall': array([ 0.83114035,  0.96929825,  0.97149123,  0.9627193 ,  0.9254386 ,\n",
      "        0.91885965,  0.89035088,  0.9122807 ,  0.8021978 ,  0.73626374]), 'f1': array([ 0.89176471,  0.97356828,  0.97042716,  0.96483516,  0.93986637,\n",
      "        0.94051627,  0.92482916,  0.93588301,  0.87951807,  0.83854819]), 'precision': array([ 0.96192893,  0.97787611,  0.96936543,  0.96696035,  0.95475113,\n",
      "        0.96321839,  0.96208531,  0.96073903,  0.97333333,  0.97383721]), 'accuracy': array([ 0.89912281,  0.97368421,  0.97039474,  0.96491228,  0.94078947,\n",
      "        0.94188596,  0.92763158,  0.9375    ,  0.89010989,  0.85824176])}\n",
      "\n",
      "\n",
      "\n",
      "Running for  accuracy\n",
      "Fitting 10 folds for each of 5 candidates, totalling 50 fits\n"
     ]
    },
    {
     "name": "stderr",
     "output_type": "stream",
     "text": [
      "[Parallel(n_jobs=1)]: Done  50 out of  50 | elapsed:    6.2s finished\n"
     ]
    },
    {
     "name": "stdout",
     "output_type": "stream",
     "text": [
      "\n",
      "Best parameters for accuracy: MultinomialNB(alpha=1e-06, class_prior=None, fit_prior=True)\n",
      "Best score achieved for accuracy: 0.930451952611\n",
      "Running the best accuracy model for precision..\n",
      "Running the best accuracy model for f1..\n",
      "Running the best accuracy model for accuracy..\n",
      "Running the best accuracy model for recall..\n",
      "For  accuracy\n",
      "{'recall': array([ 0.83114035,  0.96929825,  0.97149123,  0.9627193 ,  0.9254386 ,\n",
      "        0.91885965,  0.89035088,  0.9122807 ,  0.8021978 ,  0.73626374]), 'f1': array([ 0.89176471,  0.97356828,  0.97042716,  0.96483516,  0.93986637,\n",
      "        0.94051627,  0.92482916,  0.93588301,  0.87951807,  0.83854819]), 'precision': array([ 0.96192893,  0.97787611,  0.96936543,  0.96696035,  0.95475113,\n",
      "        0.96321839,  0.96208531,  0.96073903,  0.97333333,  0.97383721]), 'accuracy': array([ 0.89912281,  0.97368421,  0.97039474,  0.96491228,  0.94078947,\n",
      "        0.94188596,  0.92763158,  0.9375    ,  0.89010989,  0.85824176])}\n",
      "\n",
      "\n",
      "\n",
      "Running for  recall\n",
      "Fitting 10 folds for each of 5 candidates, totalling 50 fits\n"
     ]
    },
    {
     "name": "stderr",
     "output_type": "stream",
     "text": [
      "[Parallel(n_jobs=1)]: Done  50 out of  50 | elapsed:    6.4s finished\n"
     ]
    },
    {
     "name": "stdout",
     "output_type": "stream",
     "text": [
      "\n",
      "Best parameters for recall: MultinomialNB(alpha=1.0, class_prior=None, fit_prior=True)\n",
      "Best score achieved for recall: 0.915752523036\n",
      "Running the best recall model for precision..\n",
      "Running the best recall model for f1..\n",
      "Running the best recall model for accuracy..\n",
      "Running the best recall model for recall..\n",
      "For  recall\n",
      "{'recall': array([ 0.87280702,  0.98684211,  0.97368421,  0.98026316,  0.92982456,\n",
      "        0.93421053,  0.91008772,  0.92763158,  0.86593407,  0.77582418]), 'f1': array([ 0.89538808,  0.94438615,  0.94067797,  0.94603175,  0.91477886,\n",
      "        0.92608696,  0.91208791,  0.91262136,  0.88539326,  0.83254717]), 'precision': array([ 0.91916859,  0.9054326 ,  0.90983607,  0.91411043,  0.90021231,\n",
      "        0.91810345,  0.91409692,  0.89808917,  0.90574713,  0.89821883]), 'accuracy': array([ 0.89802632,  0.94188596,  0.93859649,  0.94407895,  0.91337719,\n",
      "        0.9254386 ,  0.9122807 ,  0.91118421,  0.88791209,  0.84395604])}\n",
      "\n",
      "\n",
      "\n",
      "\n",
      "################################################################\n",
      "\n",
      "Set IV) 1000 words:\n",
      "Running for  precision\n",
      "Fitting 10 folds for each of 5 candidates, totalling 50 fits\n"
     ]
    },
    {
     "name": "stderr",
     "output_type": "stream",
     "text": [
      "[Parallel(n_jobs=1)]: Done  50 out of  50 | elapsed:   17.0s finished\n"
     ]
    },
    {
     "name": "stdout",
     "output_type": "stream",
     "text": [
      "\n",
      "Best parameters for precision: MultinomialNB(alpha=1e-18, class_prior=None, fit_prior=True)\n",
      "Best score achieved for precision: 0.979046651213\n",
      "Running the best precision model for precision..\n",
      "Running the best precision model for f1..\n",
      "Running the best precision model for accuracy..\n",
      "Running the best precision model for recall..\n",
      "For  precision\n",
      "{'recall': array([ 0.77412281,  0.91447368,  0.94736842,  0.90131579,  0.89912281,\n",
      "        0.87280702,  0.8245614 ,  0.89692982,  0.77362637,  0.68351648]), 'f1': array([ 0.86308068,  0.94880546,  0.96536313,  0.93835616,  0.93928981,\n",
      "        0.92023121,  0.89630513,  0.93485714,  0.86380368,  0.80361757]), 'precision': array([ 0.97513812,  0.9858156 ,  0.98405467,  0.97857143,  0.98321343,\n",
      "        0.97310513,  0.98172324,  0.97613365,  0.97777778,  0.97492163]), 'accuracy': array([ 0.87719298,  0.95065789,  0.96600877,  0.94078947,  0.94188596,\n",
      "        0.92434211,  0.90460526,  0.9375    ,  0.87802198,  0.83296703])}\n",
      "\n",
      "\n",
      "\n",
      "Running for  f1\n",
      "Fitting 10 folds for each of 5 candidates, totalling 50 fits\n"
     ]
    },
    {
     "name": "stderr",
     "output_type": "stream",
     "text": [
      "[Parallel(n_jobs=1)]: Done  50 out of  50 | elapsed:   16.3s finished\n"
     ]
    },
    {
     "name": "stdout",
     "output_type": "stream",
     "text": [
      "\n",
      "Best parameters for f1: MultinomialNB(alpha=0.001, class_prior=None, fit_prior=True)\n",
      "Best score achieved for f1: 0.920320737953\n",
      "Running the best f1 model for precision..\n",
      "Running the best f1 model for f1..\n",
      "Running the best f1 model for accuracy..\n",
      "Running the best f1 model for recall..\n",
      "For  f1\n",
      "{'recall': array([ 0.8377193 ,  0.97149123,  0.97587719,  0.96710526,  0.92105263,\n",
      "        0.90789474,  0.89254386,  0.91666667,  0.82417582,  0.73846154]), 'f1': array([ 0.89044289,  0.96304348,  0.96844396,  0.95869565,  0.93437152,\n",
      "        0.93033708,  0.92290249,  0.92477876,  0.87924971,  0.83065513]), 'precision': array([ 0.95024876,  0.95474138,  0.96112311,  0.95043103,  0.94808126,\n",
      "        0.95391705,  0.95539906,  0.93303571,  0.94221106,  0.94915254]), 'accuracy': array([ 0.89692982,  0.9627193 ,  0.96820175,  0.95833333,  0.93530702,\n",
      "        0.93201754,  0.9254386 ,  0.9254386 ,  0.88681319,  0.84945055])}\n",
      "\n",
      "\n",
      "\n",
      "Running for  accuracy\n",
      "Fitting 10 folds for each of 5 candidates, totalling 50 fits\n"
     ]
    },
    {
     "name": "stderr",
     "output_type": "stream",
     "text": [
      "[Parallel(n_jobs=1)]: Done  50 out of  50 | elapsed:   16.2s finished\n"
     ]
    },
    {
     "name": "stdout",
     "output_type": "stream",
     "text": [
      "\n",
      "Best parameters for accuracy: MultinomialNB(alpha=0.001, class_prior=None, fit_prior=True)\n",
      "Best score achieved for accuracy: 0.924089512944\n",
      "Running the best accuracy model for precision..\n",
      "Running the best accuracy model for f1..\n",
      "Running the best accuracy model for accuracy..\n",
      "Running the best accuracy model for recall..\n",
      "For  accuracy\n",
      "{'recall': array([ 0.8377193 ,  0.97149123,  0.97587719,  0.96710526,  0.92105263,\n",
      "        0.90789474,  0.89254386,  0.91666667,  0.82417582,  0.73846154]), 'f1': array([ 0.89044289,  0.96304348,  0.96844396,  0.95869565,  0.93437152,\n",
      "        0.93033708,  0.92290249,  0.92477876,  0.87924971,  0.83065513]), 'precision': array([ 0.95024876,  0.95474138,  0.96112311,  0.95043103,  0.94808126,\n",
      "        0.95391705,  0.95539906,  0.93303571,  0.94221106,  0.94915254]), 'accuracy': array([ 0.89692982,  0.9627193 ,  0.96820175,  0.95833333,  0.93530702,\n",
      "        0.93201754,  0.9254386 ,  0.9254386 ,  0.88681319,  0.84945055])}\n",
      "\n",
      "\n",
      "\n",
      "Running for  recall\n",
      "Fitting 10 folds for each of 5 candidates, totalling 50 fits\n"
     ]
    },
    {
     "name": "stderr",
     "output_type": "stream",
     "text": [
      "[Parallel(n_jobs=1)]: Done  50 out of  50 | elapsed:   16.5s finished\n"
     ]
    },
    {
     "name": "stdout",
     "output_type": "stream",
     "text": [
      "\n",
      "Best parameters for recall: MultinomialNB(alpha=1.0, class_prior=None, fit_prior=True)\n",
      "Best score achieved for recall: 0.916191311979\n",
      "Running the best recall model for precision..\n",
      "Running the best recall model for f1..\n",
      "Running the best recall model for accuracy..\n",
      "Running the best recall model for recall..\n",
      "For  recall\n",
      "{'recall': array([ 0.87280702,  0.98026316,  0.97587719,  0.97149123,  0.92982456,\n",
      "        0.92763158,  0.91447368,  0.9254386 ,  0.87472527,  0.78901099]), 'f1': array([ 0.89137738,  0.93612565,  0.93782929,  0.93756614,  0.91280947,\n",
      "        0.91459459,  0.90849673,  0.9055794 ,  0.88938547,  0.83976608]), 'precision': array([ 0.91075515,  0.89579158,  0.90263692,  0.90593047,  0.89640592,\n",
      "        0.90191898,  0.9025974 ,  0.88655462,  0.90454545,  0.8975    ]), 'accuracy': array([ 0.89364035,  0.93311404,  0.93530702,  0.93530702,  0.91118421,\n",
      "        0.91337719,  0.90789474,  0.90350877,  0.89120879,  0.84945055])}\n",
      "\n",
      "\n",
      "\n",
      "\n",
      "################################################################\n",
      "\n",
      "Set V) 3000 words:\n",
      "Running for  precision\n",
      "Fitting 10 folds for each of 5 candidates, totalling 50 fits\n"
     ]
    },
    {
     "name": "stderr",
     "output_type": "stream",
     "text": [
      "[Parallel(n_jobs=1)]: Done  50 out of  50 | elapsed:  1.6min finished\n"
     ]
    },
    {
     "name": "stdout",
     "output_type": "stream",
     "text": [
      "\n",
      "Best parameters for precision: MultinomialNB(alpha=1e-18, class_prior=None, fit_prior=True)\n",
      "Best score achieved for precision: 0.974089514376\n",
      "Running the best precision model for precision..\n",
      "Running the best precision model for f1..\n",
      "Running the best precision model for accuracy..\n",
      "Running the best precision model for recall..\n",
      "For  precision\n",
      "{'recall': array([ 0.76315789,  0.90570175,  0.94298246,  0.92105263,  0.90131579,\n",
      "        0.89035088,  0.84429825,  0.90131579,  0.78241758,  0.70769231]), 'f1': array([ 0.85819975,  0.94077449,  0.95661846,  0.94915254,  0.93835616,\n",
      "        0.928     ,  0.90694935,  0.92986425,  0.87041565,  0.81622307]), 'precision': array([ 0.98028169,  0.97867299,  0.97065463,  0.97902098,  0.97857143,\n",
      "        0.96897375,  0.97964377,  0.96028037,  0.98071625,  0.96407186]), 'accuracy': array([ 0.87390351,  0.94298246,  0.95723684,  0.95065789,  0.94078947,\n",
      "        0.93092105,  0.91337719,  0.93201754,  0.88351648,  0.84065934])}\n",
      "\n",
      "\n",
      "\n",
      "Running for  f1\n",
      "Fitting 10 folds for each of 5 candidates, totalling 50 fits\n"
     ]
    },
    {
     "name": "stderr",
     "output_type": "stream",
     "text": [
      "[Parallel(n_jobs=1)]: Done  50 out of  50 | elapsed:  1.6min finished\n"
     ]
    },
    {
     "name": "stdout",
     "output_type": "stream",
     "text": [
      "\n",
      "Best parameters for f1: MultinomialNB(alpha=0.001, class_prior=None, fit_prior=True)\n",
      "Best score achieved for f1: 0.925293115915\n",
      "Running the best f1 model for precision..\n",
      "Running the best f1 model for f1..\n",
      "Running the best f1 model for accuracy..\n",
      "Running the best f1 model for recall..\n",
      "For  f1\n",
      "{'recall': array([ 0.83991228,  0.97587719,  0.97807018,  0.97149123,  0.92324561,\n",
      "        0.9254386 ,  0.89692982,  0.92324561,  0.85274725,  0.77362637]), 'f1': array([ 0.88863109,  0.9673913 ,  0.96641387,  0.95887446,  0.94288914,\n",
      "        0.93569845,  0.92013498,  0.92324561,  0.89918888,  0.85024155]), 'precision': array([ 0.94334975,  0.95905172,  0.95503212,  0.9465812 ,  0.96338673,\n",
      "        0.94618834,  0.94457275,  0.92324561,  0.95098039,  0.94369973]), 'accuracy': array([ 0.89473684,  0.96710526,  0.96600877,  0.95833333,  0.94407895,\n",
      "        0.93640351,  0.92214912,  0.92324561,  0.9043956 ,  0.86373626])}\n",
      "\n",
      "\n",
      "\n",
      "Running for  accuracy\n",
      "Fitting 10 folds for each of 5 candidates, totalling 50 fits\n"
     ]
    },
    {
     "name": "stderr",
     "output_type": "stream",
     "text": [
      "[Parallel(n_jobs=1)]: Done  50 out of  50 | elapsed:  1.6min finished\n"
     ]
    },
    {
     "name": "stdout",
     "output_type": "stream",
     "text": [
      "\n",
      "Best parameters for accuracy: MultinomialNB(alpha=1e-06, class_prior=None, fit_prior=True)\n",
      "Best score achieved for accuracy: 0.928258007898\n",
      "Running the best accuracy model for precision..\n",
      "Running the best accuracy model for f1..\n",
      "Running the best accuracy model for accuracy..\n",
      "Running the best accuracy model for recall..\n",
      "For  accuracy\n",
      "{'recall': array([ 0.82236842,  0.95394737,  0.97587719,  0.95833333,  0.92105263,\n",
      "        0.91885965,  0.88157895,  0.91885965,  0.83076923,  0.74945055]), 'f1': array([ 0.88652482,  0.96345515,  0.96634093,  0.96255507,  0.94594595,\n",
      "        0.93840985,  0.91780822,  0.93007769,  0.89256198,  0.83886839]), 'precision': array([ 0.96153846,  0.97315436,  0.95698925,  0.96681416,  0.97222222,\n",
      "        0.95881007,  0.95714286,  0.94157303,  0.96428571,  0.95251397]), 'accuracy': array([ 0.89473684,  0.96381579,  0.96600877,  0.9627193 ,  0.94736842,\n",
      "        0.93969298,  0.92105263,  0.93092105,  0.9       ,  0.85604396])}\n",
      "\n",
      "\n",
      "\n",
      "Running for  recall\n",
      "Fitting 10 folds for each of 5 candidates, totalling 50 fits\n"
     ]
    },
    {
     "name": "stderr",
     "output_type": "stream",
     "text": [
      "[Parallel(n_jobs=1)]: Done  50 out of  50 | elapsed:  1.7min finished\n"
     ]
    },
    {
     "name": "stdout",
     "output_type": "stream",
     "text": [
      "\n",
      "Best parameters for recall: MultinomialNB(alpha=1.0, class_prior=None, fit_prior=True)\n",
      "Best score achieved for recall: 0.934401053093\n",
      "Running the best recall model for precision..\n",
      "Running the best recall model for f1..\n",
      "Running the best recall model for accuracy..\n",
      "Running the best recall model for recall..\n",
      "For  recall\n",
      "{'recall': array([ 0.88377193,  0.98464912,  0.97807018,  0.98903509,  0.94517544,\n",
      "        0.94736842,  0.93201754,  0.93859649,  0.91208791,  0.83296703]), 'f1': array([ 0.88962472,  0.93444329,  0.93403141,  0.94252874,  0.91799787,\n",
      "        0.9201278 ,  0.91103966,  0.90677966,  0.90413943,  0.86332574]), 'precision': array([ 0.89555556,  0.88910891,  0.89378758,  0.9001996 ,  0.89233954,\n",
      "        0.89440994,  0.89098532,  0.87704918,  0.89632829,  0.89598109]), 'accuracy': array([ 0.89035088,  0.93092105,  0.93092105,  0.93969298,  0.91557018,\n",
      "        0.91776316,  0.90899123,  0.90350877,  0.9032967 ,  0.86813187])}\n",
      "\n",
      "\n",
      "\n",
      "\n",
      "################################################################\n",
      "\n"
     ]
    }
   ],
   "source": [
    "from sklearn.naive_bayes import MultinomialNB\n",
    "from sklearn.feature_extraction.text import CountVectorizer\n",
    "from sklearn.model_selection import cross_val_score\n",
    "from sklearn.grid_search import GridSearchCV\n",
    "import numpy as np\n",
    "\n",
    "\n",
    "'''\n",
    "For 50:\n",
    "'''\n",
    "# Getting it ready for Count Vectorizer:\n",
    "countvec_fiction50 = []\n",
    "countvec_nonfiction50 = []\n",
    "\n",
    "for doc in fic50:\n",
    "    temp = ' '.join(doc)\n",
    "    countvec_fiction50.append(temp)\n",
    "    \n",
    "for doc in nonfic50:\n",
    "    temp = ' '.join(doc)\n",
    "    countvec_nonfiction50.append(temp)\n",
    "    \n",
    "fiction_plus_nonfiction50 = countvec_fiction50 + countvec_nonfiction50\n",
    "    \n",
    "vectorizer50 = CountVectorizer()\n",
    "X50 = vectorizer50.fit_transform(fiction_plus_nonfiction50)\n",
    "\n",
    "\n",
    "'''\n",
    "For 100:\n",
    "'''\n",
    "# Getting it ready for Count Vectorizer:\n",
    "countvec_fiction100 = []\n",
    "countvec_nonfiction100 = []\n",
    "\n",
    "for doc in fic100:\n",
    "    temp = ' '.join(doc)\n",
    "    countvec_fiction100.append(temp)\n",
    "    \n",
    "for doc in nonfic100:\n",
    "    temp = ' '.join(doc)\n",
    "    countvec_nonfiction100.append(temp)\n",
    "    \n",
    "fiction_plus_nonfiction100 = countvec_fiction100 + countvec_nonfiction100\n",
    "\n",
    "vectorizer100 = CountVectorizer()\n",
    "X100 = vectorizer100.fit_transform(fiction_plus_nonfiction100)\n",
    "\n",
    "\n",
    "'''\n",
    "For 500:\n",
    "'''\n",
    "# Getting it ready for Count Vectorizer:\n",
    "countvec_fiction500 = []\n",
    "countvec_nonfiction500 = []\n",
    "\n",
    "for doc in fic500:\n",
    "    temp = ' '.join(doc)\n",
    "    countvec_fiction500.append(temp)\n",
    "    \n",
    "for doc in nonfic500:\n",
    "    temp = ' '.join(doc)\n",
    "    countvec_nonfiction500.append(temp)\n",
    "    \n",
    "fiction_plus_nonfiction500 = countvec_fiction500 + countvec_nonfiction500\n",
    "    \n",
    "vectorizer500 = CountVectorizer()\n",
    "X500 = vectorizer500.fit_transform(fiction_plus_nonfiction500)\n",
    "\n",
    "\n",
    "'''\n",
    "For 1000:\n",
    "'''\n",
    "# Getting it ready for Count Vectorizer:\n",
    "countvec_fiction1000 = []\n",
    "countvec_nonfiction1000 = []\n",
    "\n",
    "for doc in fic1000:\n",
    "    temp = ' '.join(doc)\n",
    "    countvec_fiction1000.append(temp)\n",
    "    \n",
    "for doc in nonfic1000:\n",
    "    temp = ' '.join(doc)\n",
    "    countvec_nonfiction1000.append(temp)\n",
    "    \n",
    "fiction_plus_nonfiction1000 = countvec_fiction1000 + countvec_nonfiction1000\n",
    "\n",
    "vectorizer1000 = CountVectorizer()\n",
    "X1000 = vectorizer1000.fit_transform(fiction_plus_nonfiction1000)\n",
    "\n",
    "'''\n",
    "For 3000:\n",
    "'''\n",
    "# Getting it ready for Count Vectorizer:\n",
    "countvec_fiction3000 = []\n",
    "countvec_nonfiction3000 = []\n",
    "\n",
    "for doc in fic3000:\n",
    "    temp = ' '.join(doc)\n",
    "    countvec_fiction3000.append(temp)\n",
    "    \n",
    "for doc in nonfic3000:\n",
    "    temp = ' '.join(doc)\n",
    "    countvec_nonfiction3000.append(temp)\n",
    "    \n",
    "fiction_plus_nonfiction3000 = countvec_fiction3000 + countvec_nonfiction3000\n",
    "    \n",
    "vectorizer3000 = CountVectorizer()\n",
    "X3000 = vectorizer3000.fit_transform(fiction_plus_nonfiction3000)\n",
    "\n",
    "\n",
    "# DONE with all cases.\n",
    "\n",
    "print \"Set I) 50 words:\"\n",
    "results_50 = my_NB(X50)\n",
    "print \"\\n################################################################\\n\"\n",
    "print \"Set II) 100 words:\"\n",
    "results_100 = my_NB(X100)\n",
    "print \"\\n################################################################\\n\"\n",
    "print \"Set III) 500 words:\"\n",
    "results_500 = my_NB(X500)\n",
    "print \"\\n################################################################\\n\"\n",
    "print \"Set IV) 1000 words:\"\n",
    "results_1000 = my_NB(X1000)\n",
    "print \"\\n################################################################\\n\"\n",
    "print \"Set V) 3000 words:\"\n",
    "results_3000 = my_NB(X3000)\n",
    "print \"\\n################################################################\\n\""
   ]
  },
  {
   "cell_type": "markdown",
   "metadata": {},
   "source": [
    "50 words)\n",
    "Pr: 0.965780489628 (1e-12)\n",
    "f1: 0.936382434163 (0.001)\n",
    "ac: 0.938788942519 (0.001)\n",
    "re: 0.928916191312 (1)"
   ]
  },
  {
   "cell_type": "code",
   "execution_count": 4,
   "metadata": {},
   "outputs": [
    {
     "name": "stdout",
     "output_type": "stream",
     "text": [
      "For 50 words\n",
      "{'recall': array([ 0.86622807,  0.98026316,  0.98245614,  0.97368421,  0.94517544,\n",
      "        0.93640351,  0.9122807 ,  0.93859649,  0.86153846,  0.77802198]), 'f1': array([ 0.90389016,  0.97491821,  0.97285559,  0.96732026,  0.95038589,\n",
      "        0.94888889,  0.93693694,  0.93756846,  0.91056911,  0.86026731]), 'precision': array([ 0.94497608,  0.96963124,  0.96344086,  0.96103896,  0.9556541 ,\n",
      "        0.96171171,  0.96296296,  0.93654267,  0.96551724,  0.96195652]), 'accuracy': array([ 0.90789474,  0.9747807 ,  0.97258772,  0.96710526,  0.95065789,\n",
      "        0.9495614 ,  0.93859649,  0.9375    ,  0.91538462,  0.87362637])}\n",
      "recall: 0.917464815886    Std-Dev: 0.0617457415884\n",
      "f1: 0.936360081433    Std-Dev: 0.0341207429083\n",
      "precision: 0.958343234362    Std-Dev: 0.00958675879706\n",
      "accuracy: 0.938769519954    Std-Dev: 0.0304081658397\n",
      "\n",
      "\n",
      "For 100 words\n",
      "{'recall': array([ 0.83991228,  0.97807018,  0.97149123,  0.96710526,  0.93421053,\n",
      "        0.92982456,  0.90570175,  0.93640351,  0.85494505,  0.76043956]), 'f1': array([ 0.89485981,  0.97379913,  0.96936543,  0.966046  ,  0.94352159,\n",
      "        0.94748603,  0.93227991,  0.94678492,  0.9088785 ,  0.85012285]), 'precision': array([ 0.9575    ,  0.96956522,  0.96724891,  0.96498906,  0.95302013,\n",
      "        0.96583144,  0.96046512,  0.9573991 ,  0.97007481,  0.9637883 ]), 'accuracy': array([ 0.90131579,  0.97368421,  0.96929825,  0.96600877,  0.94407895,\n",
      "        0.94846491,  0.93421053,  0.94736842,  0.91428571,  0.86593407])}\n",
      "recall: 0.907810391363    Std-Dev: 0.0660562113638\n",
      "f1: 0.933314418371    Std-Dev: 0.0367345842071\n",
      "precision: 0.96298820873    Std-Dev: 0.00539856545845\n",
      "accuracy: 0.936464960478    Std-Dev: 0.032193266092\n",
      "\n",
      "\n",
      "For 500 words\n",
      "{'recall': array([ 0.83114035,  0.96929825,  0.97149123,  0.9627193 ,  0.9254386 ,\n",
      "        0.91885965,  0.89035088,  0.9122807 ,  0.8021978 ,  0.73626374]), 'f1': array([ 0.89176471,  0.97356828,  0.97042716,  0.96483516,  0.93986637,\n",
      "        0.94051627,  0.92482916,  0.93588301,  0.87951807,  0.83854819]), 'precision': array([ 0.96192893,  0.97787611,  0.96936543,  0.96696035,  0.95475113,\n",
      "        0.96321839,  0.96208531,  0.96073903,  0.97333333,  0.97383721]), 'accuracy': array([ 0.89912281,  0.97368421,  0.97039474,  0.96491228,  0.94078947,\n",
      "        0.94188596,  0.92763158,  0.9375    ,  0.89010989,  0.85824176])}\n",
      "recall: 0.892004048583    Std-Dev: 0.0745458352395\n",
      "f1: 0.925975638873    Std-Dev: 0.0415056219195\n",
      "precision: 0.966409522207    Std-Dev: 0.00678721894392\n",
      "accuracy: 0.930427270098    Std-Dev: 0.0357358395124\n",
      "\n",
      "\n",
      "For 1000 words\n",
      "{'recall': array([ 0.8377193 ,  0.97149123,  0.97587719,  0.96710526,  0.92105263,\n",
      "        0.90789474,  0.89254386,  0.91666667,  0.82417582,  0.73846154]), 'f1': array([ 0.89044289,  0.96304348,  0.96844396,  0.95869565,  0.93437152,\n",
      "        0.93033708,  0.92290249,  0.92477876,  0.87924971,  0.83065513]), 'precision': array([ 0.95024876,  0.95474138,  0.96112311,  0.95043103,  0.94808126,\n",
      "        0.95391705,  0.95539906,  0.93303571,  0.94221106,  0.94915254]), 'accuracy': array([ 0.89692982,  0.9627193 ,  0.96820175,  0.95833333,  0.93530702,\n",
      "        0.93201754,  0.9254386 ,  0.9254386 ,  0.88681319,  0.84945055])}\n",
      "recall: 0.895298823983    Std-Dev: 0.0719112146118\n",
      "f1: 0.920292067637    Std-Dev: 0.0406908229131\n",
      "precision: 0.949834096793    Std-Dev: 0.00737240948775\n",
      "accuracy: 0.924064970118    Std-Dev: 0.0353571174441\n",
      "\n",
      "\n",
      "For 3000 words\n",
      "{'recall': array([ 0.83991228,  0.97587719,  0.97807018,  0.97149123,  0.92324561,\n",
      "        0.9254386 ,  0.89692982,  0.92324561,  0.85274725,  0.77362637]), 'f1': array([ 0.88863109,  0.9673913 ,  0.96641387,  0.95887446,  0.94288914,\n",
      "        0.93569845,  0.92013498,  0.92324561,  0.89918888,  0.85024155]), 'precision': array([ 0.94334975,  0.95905172,  0.95503212,  0.9465812 ,  0.96338673,\n",
      "        0.94618834,  0.94457275,  0.92324561,  0.95098039,  0.94369973]), 'accuracy': array([ 0.89473684,  0.96710526,  0.96600877,  0.95833333,  0.94407895,\n",
      "        0.93640351,  0.92214912,  0.92324561,  0.9043956 ,  0.86373626])}\n",
      "recall: 0.906058415269    Std-Dev: 0.0633617923766\n",
      "f1: 0.925270932623    Std-Dev: 0.035634026587\n",
      "precision: 0.947608834919    Std-Dev: 0.0104193724839\n",
      "accuracy: 0.928019327164    Std-Dev: 0.0317386470214\n"
     ]
    }
   ],
   "source": [
    "# Put this in the table: This is the best-f1-model scores.\n",
    "print \"For 50 words\"\n",
    "print results_50[1]\n",
    "for m in results_50[1]:\n",
    "    print m + \": \" + str(results_50[1][m].mean()) + \"    Std-Dev: \" + str(results_50[1][m].std())\n",
    "    \n",
    "print \"\\n\\nFor 100 words\"\n",
    "print results_100[1]\n",
    "for m in results_100[1]:\n",
    "    print m + \": \" + str(results_100[1][m].mean()) + \"    Std-Dev: \" + str(results_100[1][m].std())\n",
    "    \n",
    "print \"\\n\\nFor 500 words\"\n",
    "print results_500[1]\n",
    "for m in results_500[1]:\n",
    "    print m + \": \" + str(results_500[1][m].mean()) + \"    Std-Dev: \" + str(results_500[1][m].std())\n",
    "    \n",
    "print \"\\n\\nFor 1000 words\"\n",
    "print results_1000[1]\n",
    "for m in results_1000[1]:\n",
    "    print m + \": \" + str(results_1000[1][m].mean()) + \"    Std-Dev: \" + str(results_1000[1][m].std())\n",
    "    \n",
    "print \"\\n\\nFor 3000 words\"\n",
    "print results_3000[1]\n",
    "for m in results_3000[1]:\n",
    "    print m + \": \" + str(results_3000[1][m].mean()) + \"    Std-Dev: \" + str(results_3000[1][m].std())"
   ]
  },
  {
   "cell_type": "code",
   "execution_count": 20,
   "metadata": {
    "collapsed": true
   },
   "outputs": [],
   "source": [
    "# CONFIRMED with the table. It's the same."
   ]
  }
 ],
 "metadata": {
  "kernelspec": {
   "display_name": "Python 2",
   "language": "python",
   "name": "python2"
  },
  "language_info": {
   "codemirror_mode": {
    "name": "ipython",
    "version": 2
   },
   "file_extension": ".py",
   "mimetype": "text/x-python",
   "name": "python",
   "nbconvert_exporter": "python",
   "pygments_lexer": "ipython2",
   "version": "2.7.13"
  }
 },
 "nbformat": 4,
 "nbformat_minor": 2
}
